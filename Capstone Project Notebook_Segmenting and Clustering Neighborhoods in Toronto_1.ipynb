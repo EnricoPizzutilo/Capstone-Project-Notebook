{
 "cells": [
  {
   "cell_type": "markdown",
   "id": "50ea7de9-95fc-4ddc-942a-b7ee27fd2b3c",
   "metadata": {},
   "source": [
    "# **Capstone Project Notebook**"
   ]
  },
  {
   "cell_type": "markdown",
   "id": "1575ca7c-fde4-427e-a552-3dd0e6bbb56c",
   "metadata": {},
   "source": [
    "#### This is the final capstone project of **Enrico Pizzutilo**\n",
    "It will be mainly used for the capstone project"
   ]
  },
  {
   "cell_type": "code",
   "execution_count": 1,
   "id": "5a3bfdf7-0c76-4001-a029-7e354e39d72e",
   "metadata": {},
   "outputs": [],
   "source": [
    "import pandas as pd\n",
    "import numpy as np"
   ]
  },
  {
   "cell_type": "code",
   "execution_count": 2,
   "id": "a95d3275-e5b4-4ad7-85b8-f9084adb544c",
   "metadata": {},
   "outputs": [
    {
     "name": "stdout",
     "output_type": "stream",
     "text": [
      "Hello Capstone Project Course!\n"
     ]
    }
   ],
   "source": [
    "print(\"Hello Capstone Project Course!\")"
   ]
  },
  {
   "cell_type": "markdown",
   "id": "ddb80bd1-470c-4730-863d-e64a7fe21fb1",
   "metadata": {},
   "source": [
    "## Second Assignement\n"
   ]
  },
  {
   "cell_type": "code",
   "execution_count": 1,
   "id": "9c25db9f-c74f-429b-8f41-899a895018a8",
   "metadata": {},
   "outputs": [
    {
     "name": "stdout",
     "output_type": "stream",
     "text": [
      "Collecting bs4\n",
      "  Downloading https://files.pythonhosted.org/packages/10/ed/7e8b97591f6f456174139ec089c769f89a94a1a4025fe967691de971f314/bs4-0.0.1.tar.gz\n",
      "Collecting beautifulsoup4 (from bs4)\n",
      "\u001b[?25l  Downloading https://files.pythonhosted.org/packages/d1/41/e6495bd7d3781cee623ce23ea6ac73282a373088fcd0ddc809a047b18eae/beautifulsoup4-4.9.3-py3-none-any.whl (115kB)\n",
      "\u001b[K     |████████████████████████████████| 122kB 1.0MB/s eta 0:00:01\n",
      "\u001b[?25hCollecting soupsieve>1.2; python_version >= \"3.0\" (from beautifulsoup4->bs4)\n",
      "  Downloading https://files.pythonhosted.org/packages/36/69/d82d04022f02733bf9a72bc3b96332d360c0c5307096d76f6bb7489f7e57/soupsieve-2.2.1-py3-none-any.whl\n",
      "Building wheels for collected packages: bs4\n",
      "  Building wheel for bs4 (setup.py) ... \u001b[?25ldone\n",
      "\u001b[?25h  Stored in directory: /home/jupyterlab/.cache/pip/wheels/a0/b0/b2/4f80b9456b87abedbc0bf2d52235414c3467d8889be38dd472\n",
      "Successfully built bs4\n",
      "Installing collected packages: soupsieve, beautifulsoup4, bs4\n",
      "Successfully installed beautifulsoup4-4.9.3 bs4-0.0.1 soupsieve-2.2.1\n"
     ]
    }
   ],
   "source": [
    "!pip install bs4"
   ]
  },
  {
   "cell_type": "code",
   "execution_count": 2,
   "id": "0ee35f82-19c3-4f92-bc55-3c3ed5ab7da8",
   "metadata": {},
   "outputs": [],
   "source": [
    "import pandas as pd\n",
    "import requests\n",
    "from bs4 import BeautifulSoup"
   ]
  },
  {
   "cell_type": "code",
   "execution_count": 3,
   "id": "315e8914-1f84-4068-95da-608b5345af9a",
   "metadata": {},
   "outputs": [],
   "source": [
    "url = \"https://en.wikipedia.org/w/index.php?title=List_of_postal_codes_of_Canada:_M&oldid=945633050.\"\n",
    "html_data = requests.get(url).text"
   ]
  },
  {
   "cell_type": "code",
   "execution_count": 7,
   "id": "9ae259d4-aa08-4095-9481-ed898f073635",
   "metadata": {},
   "outputs": [
    {
     "data": {
      "text/plain": [
       "<title>List of postal codes of Canada: M - Wikipedia</title>"
      ]
     },
     "execution_count": 7,
     "metadata": {},
     "output_type": "execute_result"
    }
   ],
   "source": [
    "soup = BeautifulSoup(html_data, \"html5lib\")\n",
    "soup.title"
   ]
  },
  {
   "cell_type": "code",
   "execution_count": 56,
   "id": "12b3fd05-c9c6-401f-bc6a-789eda20830e",
   "metadata": {},
   "outputs": [
    {
     "name": "stdout",
     "output_type": "stream",
     "text": [
      "<tr>\n",
      "<th>Postcode</th>\n",
      "<th>Borough</th>\n",
      "<th>Neighbourhood\n",
      "</th></tr>\n"
     ]
    },
    {
     "data": {
      "text/plain": [
       "<generator object next_siblings at 0x7f4a252cb360>"
      ]
     },
     "execution_count": 56,
     "metadata": {},
     "output_type": "execute_result"
    }
   ],
   "source": [
    "#Used to check the tables present in soup --> leave # to compute them\n",
    "#soup.find_all(\"tbody\")\n",
    "a=soup.find(\"tbody\").find(\"tr\")\n",
    "print(a)\n",
    "#for element in a.next_siblings:\n",
    "#    print(\"-----------\")\n",
    "#    print(element)\n",
    "#soup.find_all(\"td\")"
   ]
  },
  {
   "cell_type": "markdown",
   "id": "c321d6bd-4adc-4bae-a20a-6e60f8818a65",
   "metadata": {},
   "source": [
    "#### Create the Dataframe\n",
    "- The dataframe will consist of three columns: PostalCode, Borough, and Neighborhood"
   ]
  },
  {
   "cell_type": "code",
   "execution_count": 142,
   "id": "b77e9698-6fc0-4529-90e4-b7c8fad9a8bd",
   "metadata": {},
   "outputs": [
    {
     "name": "stdout",
     "output_type": "stream",
     "text": [
      "Empty DataFrame\n",
      "Columns: [PostalCode, Borough, Neighborhood]\n",
      "Index: []\n"
     ]
    },
    {
     "data": {
      "text/html": [
       "<div>\n",
       "<style scoped>\n",
       "    .dataframe tbody tr th:only-of-type {\n",
       "        vertical-align: middle;\n",
       "    }\n",
       "\n",
       "    .dataframe tbody tr th {\n",
       "        vertical-align: top;\n",
       "    }\n",
       "\n",
       "    .dataframe thead th {\n",
       "        text-align: right;\n",
       "    }\n",
       "</style>\n",
       "<table border=\"1\" class=\"dataframe\">\n",
       "  <thead>\n",
       "    <tr style=\"text-align: right;\">\n",
       "      <th></th>\n",
       "      <th>PostalCode</th>\n",
       "      <th>Borough</th>\n",
       "      <th>Neighborhood</th>\n",
       "    </tr>\n",
       "  </thead>\n",
       "  <tbody>\n",
       "    <tr>\n",
       "      <th>0</th>\n",
       "      <td>M1A</td>\n",
       "      <td>Not assigned</td>\n",
       "      <td>Not assigned\\n</td>\n",
       "    </tr>\n",
       "    <tr>\n",
       "      <th>1</th>\n",
       "      <td>M2A</td>\n",
       "      <td>Not assigned</td>\n",
       "      <td>Not assigned\\n</td>\n",
       "    </tr>\n",
       "    <tr>\n",
       "      <th>2</th>\n",
       "      <td>M3A</td>\n",
       "      <td>North York</td>\n",
       "      <td>Parkwoods\\n</td>\n",
       "    </tr>\n",
       "    <tr>\n",
       "      <th>3</th>\n",
       "      <td>M4A</td>\n",
       "      <td>North York</td>\n",
       "      <td>Victoria Village\\n</td>\n",
       "    </tr>\n",
       "    <tr>\n",
       "      <th>4</th>\n",
       "      <td>M5A</td>\n",
       "      <td>Downtown Toronto</td>\n",
       "      <td>Harbourfront\\n</td>\n",
       "    </tr>\n",
       "    <tr>\n",
       "      <th>...</th>\n",
       "      <td>...</td>\n",
       "      <td>...</td>\n",
       "      <td>...</td>\n",
       "    </tr>\n",
       "    <tr>\n",
       "      <th>282</th>\n",
       "      <td>M8Z</td>\n",
       "      <td>Etobicoke</td>\n",
       "      <td>Mimico NW\\n</td>\n",
       "    </tr>\n",
       "    <tr>\n",
       "      <th>283</th>\n",
       "      <td>M8Z</td>\n",
       "      <td>Etobicoke</td>\n",
       "      <td>The Queensway West\\n</td>\n",
       "    </tr>\n",
       "    <tr>\n",
       "      <th>284</th>\n",
       "      <td>M8Z</td>\n",
       "      <td>Etobicoke</td>\n",
       "      <td>Royal York South West\\n</td>\n",
       "    </tr>\n",
       "    <tr>\n",
       "      <th>285</th>\n",
       "      <td>M8Z</td>\n",
       "      <td>Etobicoke</td>\n",
       "      <td>South of Bloor\\n</td>\n",
       "    </tr>\n",
       "    <tr>\n",
       "      <th>286</th>\n",
       "      <td>M9Z</td>\n",
       "      <td>Not assigned</td>\n",
       "      <td>Not assigned\\n</td>\n",
       "    </tr>\n",
       "  </tbody>\n",
       "</table>\n",
       "<p>287 rows × 3 columns</p>\n",
       "</div>"
      ],
      "text/plain": [
       "    PostalCode           Borough             Neighborhood\n",
       "0          M1A      Not assigned           Not assigned\\n\n",
       "1          M2A      Not assigned           Not assigned\\n\n",
       "2          M3A        North York              Parkwoods\\n\n",
       "3          M4A        North York       Victoria Village\\n\n",
       "4          M5A  Downtown Toronto           Harbourfront\\n\n",
       "..         ...               ...                      ...\n",
       "282        M8Z         Etobicoke              Mimico NW\\n\n",
       "283        M8Z         Etobicoke     The Queensway West\\n\n",
       "284        M8Z         Etobicoke  Royal York South West\\n\n",
       "285        M8Z         Etobicoke         South of Bloor\\n\n",
       "286        M9Z      Not assigned           Not assigned\\n\n",
       "\n",
       "[287 rows x 3 columns]"
      ]
     },
     "execution_count": 142,
     "metadata": {},
     "output_type": "execute_result"
    }
   ],
   "source": [
    "neighborhood_df = pd.DataFrame(columns=['PostalCode', 'Borough', 'Neighborhood'])\n",
    "print(neighborhood_df)\n",
    "\n",
    "for row in soup.find(\"tbody\").find_all(\"tr\"):\n",
    "    col = row.find_all(\"td\")\n",
    "    if col != []:\n",
    "        postcode = col[0].text\n",
    "        borough = col[1].text\n",
    "        neighborhood = col[2].text\n",
    "        #print(\"{}, {}, {}\".format(postcode, borough, neighborhood))\n",
    "        neighborhood_df = neighborhood_df.append({'PostalCode':postcode, 'Borough':borough, 'Neighborhood':neighborhood}, ignore_index=True)\n",
    "\n",
    "neighborhood_df"
   ]
  },
  {
   "cell_type": "markdown",
   "id": "d02eadeb-9fda-409a-b165-ece7b145459e",
   "metadata": {},
   "source": [
    "- Only process the cells that have an assigned borough. Ignore cells with a borough that is Not assigned."
   ]
  },
  {
   "cell_type": "code",
   "execution_count": 150,
   "id": "36798319-7b03-4702-be91-70ccad3041c7",
   "metadata": {},
   "outputs": [
    {
     "data": {
      "text/html": [
       "<div>\n",
       "<style scoped>\n",
       "    .dataframe tbody tr th:only-of-type {\n",
       "        vertical-align: middle;\n",
       "    }\n",
       "\n",
       "    .dataframe tbody tr th {\n",
       "        vertical-align: top;\n",
       "    }\n",
       "\n",
       "    .dataframe thead th {\n",
       "        text-align: right;\n",
       "    }\n",
       "</style>\n",
       "<table border=\"1\" class=\"dataframe\">\n",
       "  <thead>\n",
       "    <tr style=\"text-align: right;\">\n",
       "      <th></th>\n",
       "      <th>PostalCode</th>\n",
       "      <th>Borough</th>\n",
       "      <th>Neighborhood</th>\n",
       "    </tr>\n",
       "  </thead>\n",
       "  <tbody>\n",
       "    <tr>\n",
       "      <th>2</th>\n",
       "      <td>M3A</td>\n",
       "      <td>North York</td>\n",
       "      <td>Parkwoods\\n</td>\n",
       "    </tr>\n",
       "    <tr>\n",
       "      <th>3</th>\n",
       "      <td>M4A</td>\n",
       "      <td>North York</td>\n",
       "      <td>Victoria Village\\n</td>\n",
       "    </tr>\n",
       "    <tr>\n",
       "      <th>4</th>\n",
       "      <td>M5A</td>\n",
       "      <td>Downtown Toronto</td>\n",
       "      <td>Harbourfront\\n</td>\n",
       "    </tr>\n",
       "    <tr>\n",
       "      <th>5</th>\n",
       "      <td>M6A</td>\n",
       "      <td>North York</td>\n",
       "      <td>Lawrence Heights\\n</td>\n",
       "    </tr>\n",
       "    <tr>\n",
       "      <th>6</th>\n",
       "      <td>M6A</td>\n",
       "      <td>North York</td>\n",
       "      <td>Lawrence Manor\\n</td>\n",
       "    </tr>\n",
       "    <tr>\n",
       "      <th>...</th>\n",
       "      <td>...</td>\n",
       "      <td>...</td>\n",
       "      <td>...</td>\n",
       "    </tr>\n",
       "    <tr>\n",
       "      <th>281</th>\n",
       "      <td>M8Z</td>\n",
       "      <td>Etobicoke</td>\n",
       "      <td>Kingsway Park South West\\n</td>\n",
       "    </tr>\n",
       "    <tr>\n",
       "      <th>282</th>\n",
       "      <td>M8Z</td>\n",
       "      <td>Etobicoke</td>\n",
       "      <td>Mimico NW\\n</td>\n",
       "    </tr>\n",
       "    <tr>\n",
       "      <th>283</th>\n",
       "      <td>M8Z</td>\n",
       "      <td>Etobicoke</td>\n",
       "      <td>The Queensway West\\n</td>\n",
       "    </tr>\n",
       "    <tr>\n",
       "      <th>284</th>\n",
       "      <td>M8Z</td>\n",
       "      <td>Etobicoke</td>\n",
       "      <td>Royal York South West\\n</td>\n",
       "    </tr>\n",
       "    <tr>\n",
       "      <th>285</th>\n",
       "      <td>M8Z</td>\n",
       "      <td>Etobicoke</td>\n",
       "      <td>South of Bloor\\n</td>\n",
       "    </tr>\n",
       "  </tbody>\n",
       "</table>\n",
       "<p>210 rows × 3 columns</p>\n",
       "</div>"
      ],
      "text/plain": [
       "    PostalCode           Borough                Neighborhood\n",
       "2          M3A        North York                 Parkwoods\\n\n",
       "3          M4A        North York          Victoria Village\\n\n",
       "4          M5A  Downtown Toronto              Harbourfront\\n\n",
       "5          M6A        North York          Lawrence Heights\\n\n",
       "6          M6A        North York            Lawrence Manor\\n\n",
       "..         ...               ...                         ...\n",
       "281        M8Z         Etobicoke  Kingsway Park South West\\n\n",
       "282        M8Z         Etobicoke                 Mimico NW\\n\n",
       "283        M8Z         Etobicoke        The Queensway West\\n\n",
       "284        M8Z         Etobicoke     Royal York South West\\n\n",
       "285        M8Z         Etobicoke            South of Bloor\\n\n",
       "\n",
       "[210 rows x 3 columns]"
      ]
     },
     "execution_count": 150,
     "metadata": {},
     "output_type": "execute_result"
    }
   ],
   "source": [
    "#drop the row with borough not assigned\n",
    "neighborhood_df=neighborhood_df.drop(neighborhood_df[neighborhood_df['Borough']=='Not assigned'].index)\n",
    "neighborhood_df\n",
    "#neighborhood_df['Borough']=='Not assigned'"
   ]
  },
  {
   "cell_type": "markdown",
   "id": "addad2b2-5db5-4004-8fac-c6ecb41e4762",
   "metadata": {},
   "source": [
    "- If a cell has a borough but a Not assigned  neighborhood, then the neighborhood will be the same as the borough."
   ]
  },
  {
   "cell_type": "code",
   "execution_count": 176,
   "id": "9abbb4e7-1d3a-409d-a5c8-3f44e36169fb",
   "metadata": {},
   "outputs": [
    {
     "data": {
      "text/html": [
       "<div>\n",
       "<style scoped>\n",
       "    .dataframe tbody tr th:only-of-type {\n",
       "        vertical-align: middle;\n",
       "    }\n",
       "\n",
       "    .dataframe tbody tr th {\n",
       "        vertical-align: top;\n",
       "    }\n",
       "\n",
       "    .dataframe thead th {\n",
       "        text-align: right;\n",
       "    }\n",
       "</style>\n",
       "<table border=\"1\" class=\"dataframe\">\n",
       "  <thead>\n",
       "    <tr style=\"text-align: right;\">\n",
       "      <th></th>\n",
       "      <th>PostalCode</th>\n",
       "      <th>Borough</th>\n",
       "      <th>Neighborhood</th>\n",
       "    </tr>\n",
       "  </thead>\n",
       "  <tbody>\n",
       "  </tbody>\n",
       "</table>\n",
       "</div>"
      ],
      "text/plain": [
       "Empty DataFrame\n",
       "Columns: [PostalCode, Borough, Neighborhood]\n",
       "Index: []"
      ]
     },
     "execution_count": 176,
     "metadata": {},
     "output_type": "execute_result"
    }
   ],
   "source": [
    "#check if there is any non assigned neighborhood\n",
    "a = neighborhood_df[neighborhood_df['Neighborhood']=='Not assigned']\n",
    "a"
   ]
  },
  {
   "cell_type": "markdown",
   "id": "0c845d3e-8969-4fa9-a0bd-a79c5db8c55f",
   "metadata": {},
   "source": [
    "- More than one neighborhood can exist in one postal code area. For example, in the table on the Wikipedia page, you will notice that M5A is listed twice and has two neighborhoods: Harbourfront and Regent Park. These two rows will be combined into one row with the neighborhoods separated with a comma as shown in row 11  in the above table."
   ]
  },
  {
   "cell_type": "code",
   "execution_count": 144,
   "id": "d5bbd709-6825-4eea-ac8d-eb24eecd0081",
   "metadata": {},
   "outputs": [
    {
     "name": "stdout",
     "output_type": "stream",
     "text": [
      "    PostalCode    Borough                Neighborhood\n",
      "281        M8Z  Etobicoke  Kingsway Park South West\\n\n",
      "282        M8Z  Etobicoke                 Mimico NW\\n\n",
      "283        M8Z  Etobicoke        The Queensway West\\n\n",
      "284        M8Z  Etobicoke     Royal York South West\\n\n",
      "285        M8Z  Etobicoke            South of Bloor\\n\n",
      "Etobicoke Kingsway Park South West , Mimico NW , The Queensway West , Royal York South West , South of Bloor\n"
     ]
    }
   ],
   "source": [
    "#testing the codes for the following loops\n",
    "unique_postalcode_df = neighborhood_df[neighborhood_df['PostalCode']=='M8Z']\n",
    "print(unique_postalcode_df)\n",
    "neigh_list_same_pc = unique_postalcode_df['Neighborhood'].tolist()\n",
    "neighborhoods = ''.join(neigh_list_same_pc).replace(\"\\n\", \" , \")[0:-3]\n",
    "borough = unique_postalcode_df['Borough'][unique_postalcode_df.index[0]]\n",
    "print(borough, neighborhoods)"
   ]
  },
  {
   "cell_type": "code",
   "execution_count": 170,
   "id": "f99f9d37-a210-4d3c-8319-9386c7cc9901",
   "metadata": {},
   "outputs": [
    {
     "name": "stdout",
     "output_type": "stream",
     "text": [
      "[]\n"
     ]
    },
    {
     "data": {
      "text/html": [
       "<div>\n",
       "<style scoped>\n",
       "    .dataframe tbody tr th:only-of-type {\n",
       "        vertical-align: middle;\n",
       "    }\n",
       "\n",
       "    .dataframe tbody tr th {\n",
       "        vertical-align: top;\n",
       "    }\n",
       "\n",
       "    .dataframe thead th {\n",
       "        text-align: right;\n",
       "    }\n",
       "</style>\n",
       "<table border=\"1\" class=\"dataframe\">\n",
       "  <thead>\n",
       "    <tr style=\"text-align: right;\">\n",
       "      <th></th>\n",
       "      <th>PostalCode</th>\n",
       "      <th>Borough</th>\n",
       "      <th>Neighborhood</th>\n",
       "    </tr>\n",
       "  </thead>\n",
       "  <tbody>\n",
       "    <tr>\n",
       "      <th>0</th>\n",
       "      <td>M3A</td>\n",
       "      <td>North York</td>\n",
       "      <td>Parkwoods</td>\n",
       "    </tr>\n",
       "    <tr>\n",
       "      <th>1</th>\n",
       "      <td>M4A</td>\n",
       "      <td>North York</td>\n",
       "      <td>Victoria Village</td>\n",
       "    </tr>\n",
       "    <tr>\n",
       "      <th>2</th>\n",
       "      <td>M5A</td>\n",
       "      <td>Downtown Toronto</td>\n",
       "      <td>Harbourfront</td>\n",
       "    </tr>\n",
       "    <tr>\n",
       "      <th>3</th>\n",
       "      <td>M6A</td>\n",
       "      <td>North York</td>\n",
       "      <td>Lawrence Heights , Lawrence Manor</td>\n",
       "    </tr>\n",
       "    <tr>\n",
       "      <th>4</th>\n",
       "      <td>M7A</td>\n",
       "      <td>Downtown Toronto</td>\n",
       "      <td>Queen's Park</td>\n",
       "    </tr>\n",
       "    <tr>\n",
       "      <th>...</th>\n",
       "      <td>...</td>\n",
       "      <td>...</td>\n",
       "      <td>...</td>\n",
       "    </tr>\n",
       "    <tr>\n",
       "      <th>98</th>\n",
       "      <td>M8X</td>\n",
       "      <td>Etobicoke</td>\n",
       "      <td>The Kingsway , Montgomery Road , Old Mill North</td>\n",
       "    </tr>\n",
       "    <tr>\n",
       "      <th>99</th>\n",
       "      <td>M4Y</td>\n",
       "      <td>Downtown Toronto</td>\n",
       "      <td>Church and Wellesley</td>\n",
       "    </tr>\n",
       "    <tr>\n",
       "      <th>100</th>\n",
       "      <td>M7Y</td>\n",
       "      <td>East Toronto</td>\n",
       "      <td>Business Reply Mail Processing Centre 969 Eastern</td>\n",
       "    </tr>\n",
       "    <tr>\n",
       "      <th>101</th>\n",
       "      <td>M8Y</td>\n",
       "      <td>Etobicoke</td>\n",
       "      <td>Humber Bay , King's Mill Park , Kingsway Park ...</td>\n",
       "    </tr>\n",
       "    <tr>\n",
       "      <th>102</th>\n",
       "      <td>M8Z</td>\n",
       "      <td>Etobicoke</td>\n",
       "      <td>Kingsway Park South West , Mimico NW , The Que...</td>\n",
       "    </tr>\n",
       "  </tbody>\n",
       "</table>\n",
       "<p>103 rows × 3 columns</p>\n",
       "</div>"
      ],
      "text/plain": [
       "    PostalCode           Borough  \\\n",
       "0          M3A        North York   \n",
       "1          M4A        North York   \n",
       "2          M5A  Downtown Toronto   \n",
       "3          M6A        North York   \n",
       "4          M7A  Downtown Toronto   \n",
       "..         ...               ...   \n",
       "98         M8X         Etobicoke   \n",
       "99         M4Y  Downtown Toronto   \n",
       "100        M7Y      East Toronto   \n",
       "101        M8Y         Etobicoke   \n",
       "102        M8Z         Etobicoke   \n",
       "\n",
       "                                          Neighborhood  \n",
       "0                                            Parkwoods  \n",
       "1                                     Victoria Village  \n",
       "2                                         Harbourfront  \n",
       "3                    Lawrence Heights , Lawrence Manor  \n",
       "4                                         Queen's Park  \n",
       "..                                                 ...  \n",
       "98     The Kingsway , Montgomery Road , Old Mill North  \n",
       "99                                Church and Wellesley  \n",
       "100  Business Reply Mail Processing Centre 969 Eastern  \n",
       "101  Humber Bay , King's Mill Park , Kingsway Park ...  \n",
       "102  Kingsway Park South West , Mimico NW , The Que...  \n",
       "\n",
       "[103 rows x 3 columns]"
      ]
     },
     "execution_count": 170,
     "metadata": {},
     "output_type": "execute_result"
    }
   ],
   "source": [
    "#starting from the previous dataframe use a loop to have all the neighborhood with the same postal code in the same row\n",
    "\n",
    "unique_postalcode_total_table = []\n",
    "print(unique_postalcode_total_table)\n",
    "\n",
    "for unique_postalcode in pd.unique(neighborhood_df[\"PostalCode\"]):\n",
    "    cell = {}\n",
    "    unique_postalcode_df = neighborhood_df[neighborhood_df['PostalCode']==unique_postalcode]\n",
    "    \n",
    "    cell['PostalCode'] = unique_postalcode\n",
    "    cell['Borough'] = unique_postalcode_df['Borough'][unique_postalcode_df.index[0]]\n",
    "    cell['Neighborhood'] = ''.join(unique_postalcode_df['Neighborhood'].tolist()).replace(\"\\n\", \" , \")[0:-3]\n",
    "    \n",
    "    #print(cell)\n",
    "    unique_postalcode_total_table.append(cell)\n",
    "    #print(unique_postalcode_total_table)\n",
    "    \n",
    "unique_postalcode_total_df = pd.DataFrame(unique_postalcode_total_table)\n",
    "unique_postalcode_total_df"
   ]
  },
  {
   "cell_type": "markdown",
   "id": "0a822f08-a890-4b4f-85c6-df2c373ee6cc",
   "metadata": {},
   "source": [
    "- In the last cell of your notebook, use the .shape method to print the number of rows of your dataframe."
   ]
  },
  {
   "cell_type": "code",
   "execution_count": null,
   "id": "5367d168-9a47-4b95-8802-6ca9cd534921",
   "metadata": {},
   "outputs": [],
   "source": [
    "unique_postalcode_total_d"
   ]
  }
 ],
 "metadata": {
  "kernelspec": {
   "display_name": "Python",
   "language": "python",
   "name": "conda-env-python-py"
  },
  "language_info": {
   "codemirror_mode": {
    "name": "ipython",
    "version": 3
   },
   "file_extension": ".py",
   "mimetype": "text/x-python",
   "name": "python",
   "nbconvert_exporter": "python",
   "pygments_lexer": "ipython3",
   "version": "3.6.13"
  }
 },
 "nbformat": 4,
 "nbformat_minor": 5
}
