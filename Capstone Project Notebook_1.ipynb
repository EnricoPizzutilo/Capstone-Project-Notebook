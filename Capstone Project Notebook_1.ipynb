{
 "cells": [
  {
   "cell_type": "markdown",
   "id": "50ea7de9-95fc-4ddc-942a-b7ee27fd2b3c",
   "metadata": {},
   "source": [
    "# **Capstone Project Notebook**"
   ]
  },
  {
   "cell_type": "markdown",
   "id": "1575ca7c-fde4-427e-a552-3dd0e6bbb56c",
   "metadata": {},
   "source": [
    "#### This is the final capstone project of **Enrico Pizzutilo**\n",
    "It will be mainly used for the capstone project"
   ]
  },
  {
   "cell_type": "code",
   "execution_count": 1,
   "id": "5a3bfdf7-0c76-4001-a029-7e354e39d72e",
   "metadata": {},
   "outputs": [],
   "source": [
    "import pandas as pd\n",
    "import numpy as np"
   ]
  },
  {
   "cell_type": "code",
   "execution_count": 2,
   "id": "a95d3275-e5b4-4ad7-85b8-f9084adb544c",
   "metadata": {},
   "outputs": [
    {
     "name": "stdout",
     "output_type": "stream",
     "text": [
      "Hello Capstone Project Course!\n"
     ]
    }
   ],
   "source": [
    "print(\"Hello Capstone Project Course!\")"
   ]
  }
 ],
 "metadata": {
  "kernelspec": {
   "display_name": "Python",
   "language": "python",
   "name": "conda-env-python-py"
  },
  "language_info": {
   "codemirror_mode": {
    "name": "ipython",
    "version": 3
   },
   "file_extension": ".py",
   "mimetype": "text/x-python",
   "name": "python",
   "nbconvert_exporter": "python",
   "pygments_lexer": "ipython3",
   "version": "3.6.13"
  }
 },
 "nbformat": 4,
 "nbformat_minor": 5
}
